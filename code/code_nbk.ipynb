{
 "cells": [
  {
   "cell_type": "code",
   "execution_count": null,
   "metadata": {},
   "outputs": [],
   "source": [
    "import numpy as np\n",
    "import pandas as pd\n",
    "from scipy.optimize import minimize\n",
    "from scipy.stats import norm\n",
    "import glob"
   ]
  },
  {
   "cell_type": "code",
   "execution_count": 5,
   "metadata": {},
   "outputs": [
    {
     "name": "stdout",
     "output_type": "stream",
     "text": [
      "['../data/recently_added_2_male_csv2\\\\1433370.csv', '../data/recently_added_2_male_csv2\\\\1433371.csv', '../data/recently_added_2_male_csv2\\\\1439898.csv', '../data/recently_added_2_male_csv2\\\\1444772.csv', '../data/recently_added_2_male_csv2\\\\1444793.csv']\n",
      "   match_id   season  start_date  \\\n",
      "0   1433370  2024/25  2024-10-31   \n",
      "1   1433370  2024/25  2024-10-31   \n",
      "2   1433370  2024/25  2024-10-31   \n",
      "3   1433370  2024/25  2024-10-31   \n",
      "4   1433370  2024/25  2024-10-31   \n",
      "\n",
      "                                               venue  innings  ball  \\\n",
      "0  Sir Vivian Richards Stadium, North Sound, Antigua        1   0.1   \n",
      "1  Sir Vivian Richards Stadium, North Sound, Antigua        1   0.2   \n",
      "2  Sir Vivian Richards Stadium, North Sound, Antigua        1   0.3   \n",
      "3  Sir Vivian Richards Stadium, North Sound, Antigua        1   0.4   \n",
      "4  Sir Vivian Richards Stadium, North Sound, Antigua        1   0.5   \n",
      "\n",
      "  batting_team bowling_team  striker non_striker  ... extras  wides  noballs  \\\n",
      "0      England  West Indies  PD Salt    WG Jacks  ...      0    NaN      NaN   \n",
      "1      England  West Indies  PD Salt    WG Jacks  ...      0    NaN      NaN   \n",
      "2      England  West Indies  PD Salt    WG Jacks  ...      0    NaN      NaN   \n",
      "3      England  West Indies  PD Salt    WG Jacks  ...      0    NaN      NaN   \n",
      "4      England  West Indies  PD Salt    WG Jacks  ...      0    NaN      NaN   \n",
      "\n",
      "   byes  legbyes  penalty  wicket_type  player_dismissed other_wicket_type  \\\n",
      "0   NaN      NaN      NaN          NaN               NaN               NaN   \n",
      "1   NaN      NaN      NaN          NaN               NaN               NaN   \n",
      "2   NaN      NaN      NaN          NaN               NaN               NaN   \n",
      "3   NaN      NaN      NaN          NaN               NaN               NaN   \n",
      "4   NaN      NaN      NaN          NaN               NaN               NaN   \n",
      "\n",
      "  other_player_dismissed  \n",
      "0                    NaN  \n",
      "1                    NaN  \n",
      "2                    NaN  \n",
      "3                    NaN  \n",
      "4                    NaN  \n",
      "\n",
      "[5 rows x 22 columns]\n"
     ]
    },
    {
     "data": {
      "text/html": [
       "<div>\n",
       "<style scoped>\n",
       "    .dataframe tbody tr th:only-of-type {\n",
       "        vertical-align: middle;\n",
       "    }\n",
       "\n",
       "    .dataframe tbody tr th {\n",
       "        vertical-align: top;\n",
       "    }\n",
       "\n",
       "    .dataframe thead th {\n",
       "        text-align: right;\n",
       "    }\n",
       "</style>\n",
       "<table border=\"1\" class=\"dataframe\">\n",
       "  <thead>\n",
       "    <tr style=\"text-align: right;\">\n",
       "      <th></th>\n",
       "      <th>match_id</th>\n",
       "      <th>start_date</th>\n",
       "      <th>innings</th>\n",
       "      <th>balls_remaining</th>\n",
       "      <th>wickets_remaining</th>\n",
       "      <th>wickets_indicator</th>\n",
       "    </tr>\n",
       "  </thead>\n",
       "  <tbody>\n",
       "    <tr>\n",
       "      <th>0</th>\n",
       "      <td>1433370</td>\n",
       "      <td>2024-10-31</td>\n",
       "      <td>1</td>\n",
       "      <td>299</td>\n",
       "      <td>10</td>\n",
       "      <td>0</td>\n",
       "    </tr>\n",
       "    <tr>\n",
       "      <th>1</th>\n",
       "      <td>1433370</td>\n",
       "      <td>2024-10-31</td>\n",
       "      <td>1</td>\n",
       "      <td>298</td>\n",
       "      <td>10</td>\n",
       "      <td>0</td>\n",
       "    </tr>\n",
       "    <tr>\n",
       "      <th>2</th>\n",
       "      <td>1433370</td>\n",
       "      <td>2024-10-31</td>\n",
       "      <td>1</td>\n",
       "      <td>297</td>\n",
       "      <td>10</td>\n",
       "      <td>0</td>\n",
       "    </tr>\n",
       "    <tr>\n",
       "      <th>3</th>\n",
       "      <td>1433370</td>\n",
       "      <td>2024-10-31</td>\n",
       "      <td>1</td>\n",
       "      <td>296</td>\n",
       "      <td>10</td>\n",
       "      <td>0</td>\n",
       "    </tr>\n",
       "    <tr>\n",
       "      <th>4</th>\n",
       "      <td>1433370</td>\n",
       "      <td>2024-10-31</td>\n",
       "      <td>1</td>\n",
       "      <td>295</td>\n",
       "      <td>10</td>\n",
       "      <td>0</td>\n",
       "    </tr>\n",
       "  </tbody>\n",
       "</table>\n",
       "</div>"
      ],
      "text/plain": [
       "   match_id  start_date  innings  balls_remaining  wickets_remaining  \\\n",
       "0   1433370  2024-10-31        1              299                 10   \n",
       "1   1433370  2024-10-31        1              298                 10   \n",
       "2   1433370  2024-10-31        1              297                 10   \n",
       "3   1433370  2024-10-31        1              296                 10   \n",
       "4   1433370  2024-10-31        1              295                 10   \n",
       "\n",
       "   wickets_indicator  \n",
       "0                  0  \n",
       "1                  0  \n",
       "2                  0  \n",
       "3                  0  \n",
       "4                  0  "
      ]
     },
     "execution_count": 5,
     "metadata": {},
     "output_type": "execute_result"
    }
   ],
   "source": [
    "def get_iso_data(iso_data_path):\n",
    "\tcsv_files = glob.glob(f'{iso_data_path}/*.csv')\n",
    "\tfiltered_csv_files = [file for file in csv_files if not file.endswith('_info.csv')]\n",
    "\tprint(filtered_csv_files[0:5])\n",
    "\tdf = pd.concat([pd.read_csv(file) for file in filtered_csv_files], ignore_index = True)\n",
    "\t# first innings data\n",
    "\tdf = df[df['innings']==1]\n",
    "\tdf.to_csv('../data/combined_output.csv', index = False)\n",
    "\tprint(df[0:5])\n",
    "\tdf = df[['match_id', 'start_date', 'innings', 'ball', 'runs_off_bat', 'extras', 'wicket_type']]\n",
    "\tdf['wickets_indicator'] = df['wicket_type'].notna().astype(int)\n",
    "\tdf['balls_remaining'] = 300 - ((df['ball'].astype(int) * 6) + ((df['ball'] * 10) % 10).astype(int))\n",
    "\t\t\n",
    "\t# Calculate wickets remaining for each match and innings\n",
    "\tdf['wickets_fallen'] = df.groupby(['match_id', 'innings'])['wickets_indicator'].cumsum()\n",
    "\tdf['wickets_remaining'] = 10 - df['wickets_fallen']\n",
    "\n",
    "\t#print(df[270:300])\n",
    "\treturn df\n",
    "\n",
    "iso_df = get_iso_data('../data/recently_added_2_male_csv2')\n",
    "sub_df = iso_df[['match_id', 'start_date', 'innings', 'balls_remaining', 'wickets_remaining', 'wickets_indicator']]\n",
    "sub_df.head()"
   ]
  },
  {
   "cell_type": "markdown",
   "metadata": {},
   "source": [
    "# The Components of the distribution function"
   ]
  },
  {
   "cell_type": "markdown",
   "metadata": {},
   "source": [
    "## Probability of extras"
   ]
  },
  {
   "cell_type": "code",
   "execution_count": 4,
   "metadata": {},
   "outputs": [],
   "source": [
    "def get_prob_of_wide_or_no_ball(iso_df):\n",
    "\textras_runs = iso_df['extras'].sum()\n",
    "\ttotal_no_of_balls = iso_df['ball'].count()\n",
    "\tprob_of_wide_or_no_ball = extras_runs/(total_no_of_balls+extras_runs)\n",
    "\tprint(f'extras_runss: {extras_runs}, total_no_of_balls:{total_no_of_balls}')\n",
    "\treturn prob_of_wide_or_no_ball"
   ]
  },
  {
   "cell_type": "markdown",
   "metadata": {},
   "source": [
    "## Wicket Process"
   ]
  },
  {
   "cell_type": "code",
   "execution_count": null,
   "metadata": {},
   "outputs": [],
   "source": [
    "class WicketProbit:\n",
    "    def __init__(self, df):\n",
    "        self.df = df\n",
    "        #Initial guesses\n",
    "        self.a0 = 1.67\n",
    "        self.a1 = 0.00758\n",
    "        self.a2 = -0.0459\n",
    "        self.a3 = - 0.0000160\n",
    "    \n",
    "    def LLF(self, params):\n",
    "        a0, a1, a2, a3 = params\n",
    "        sum = 0\n",
    "        for index, row in self.df.iterrows():\n",
    "            x = -a0 - a1*row['balls_remaining'] - a2*row['wickets_remaining'] + a3*(row['balls_remaining']**2)\n",
    "            sum += row['wickets_indicator']*np.log(norm.cdf(x)) + (1-row['wickets_indicator'])*np.log(1-norm.cdf(x))\n",
    "        \n",
    "        return -sum\n",
    "    \n",
    "    def fit(self):\n",
    "        res = minimize(self.LLF, [self.a0, self.a1, self.a2, self.a3])\n",
    "        self.a0, self.a1, self.a2, self.a3 = res.x\n",
    "        return None\n",
    "    \n",
    "    def predict(self, balls_remaining, wickets_remaining):\n",
    "        x = -self.a0 - self.a1*balls_remaining - self.a2*wickets_remaining + self.a3*(balls_remaining**2)\n",
    "        return norm.cdf(x)"
   ]
  },
  {
   "cell_type": "markdown",
   "metadata": {},
   "source": [
    "## Runs Process"
   ]
  },
  {
   "cell_type": "code",
   "execution_count": null,
   "metadata": {},
   "outputs": [],
   "source": [
    "class RunsOProbit:"
   ]
  }
 ],
 "metadata": {
  "kernelspec": {
   "display_name": "DataAnalytics",
   "language": "python",
   "name": "python3"
  },
  "language_info": {
   "codemirror_mode": {
    "name": "ipython",
    "version": 3
   },
   "file_extension": ".py",
   "mimetype": "text/x-python",
   "name": "python",
   "nbconvert_exporter": "python",
   "pygments_lexer": "ipython3",
   "version": "3.9.13"
  }
 },
 "nbformat": 4,
 "nbformat_minor": 2
}
